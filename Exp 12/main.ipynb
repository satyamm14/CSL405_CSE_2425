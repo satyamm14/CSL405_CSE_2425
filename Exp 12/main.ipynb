{
 "cells": [
  {
   "cell_type": "markdown",
   "metadata": {},
   "source": [
    "### Satyam SE3 S3 62"
   ]
  },
  {
   "cell_type": "code",
   "execution_count": 2,
   "metadata": {},
   "outputs": [
    {
     "data": {
      "text/html": [
       "<div>\n",
       "<style scoped>\n",
       "    .dataframe tbody tr th:only-of-type {\n",
       "        vertical-align: middle;\n",
       "    }\n",
       "\n",
       "    .dataframe tbody tr th {\n",
       "        vertical-align: top;\n",
       "    }\n",
       "\n",
       "    .dataframe thead th {\n",
       "        text-align: right;\n",
       "    }\n",
       "</style>\n",
       "<table border=\"1\" class=\"dataframe\">\n",
       "  <thead>\n",
       "    <tr style=\"text-align: right;\">\n",
       "      <th></th>\n",
       "      <th>Product</th>\n",
       "      <th>Price</th>\n",
       "      <th>Stock</th>\n",
       "      <th>Category</th>\n",
       "    </tr>\n",
       "  </thead>\n",
       "  <tbody>\n",
       "    <tr>\n",
       "      <th>0</th>\n",
       "      <td>Laptop</td>\n",
       "      <td>1200</td>\n",
       "      <td>10</td>\n",
       "      <td>Electronics</td>\n",
       "    </tr>\n",
       "    <tr>\n",
       "      <th>1</th>\n",
       "      <td>Phone</td>\n",
       "      <td>800</td>\n",
       "      <td>25</td>\n",
       "      <td>Electronics</td>\n",
       "    </tr>\n",
       "    <tr>\n",
       "      <th>2</th>\n",
       "      <td>Tablet</td>\n",
       "      <td>300</td>\n",
       "      <td>30</td>\n",
       "      <td>Electronics</td>\n",
       "    </tr>\n",
       "    <tr>\n",
       "      <th>3</th>\n",
       "      <td>Monitor</td>\n",
       "      <td>400</td>\n",
       "      <td>15</td>\n",
       "      <td>Accessories</td>\n",
       "    </tr>\n",
       "    <tr>\n",
       "      <th>4</th>\n",
       "      <td>Keyboard</td>\n",
       "      <td>100</td>\n",
       "      <td>50</td>\n",
       "      <td>Accessories</td>\n",
       "    </tr>\n",
       "  </tbody>\n",
       "</table>\n",
       "</div>"
      ],
      "text/plain": [
       "    Product  Price  Stock     Category\n",
       "0    Laptop   1200     10  Electronics\n",
       "1     Phone    800     25  Electronics\n",
       "2    Tablet    300     30  Electronics\n",
       "3   Monitor    400     15  Accessories\n",
       "4  Keyboard    100     50  Accessories"
      ]
     },
     "execution_count": 2,
     "metadata": {},
     "output_type": "execute_result"
    }
   ],
   "source": [
    "import pandas as pd\n",
    "\n",
    "# Creating a DataFrame with Product Data\n",
    "data = {\n",
    "    \"Product\": [\"Laptop\", \"Phone\", \"Tablet\", \"Monitor\", \"Keyboard\"],\n",
    "    \"Price\": [1200, 800, 300, 400, 100],\n",
    "    \"Stock\": [10, 25, 30, 15, 50],\n",
    "    \"Category\": [\"Electronics\", \"Electronics\", \"Electronics\", \"Accessories\", \"Accessories\"]\n",
    "}\n",
    "df = pd.DataFrame(data)\n",
    "df"
   ]
  },
  {
   "cell_type": "code",
   "execution_count": 3,
   "metadata": {},
   "outputs": [
    {
     "name": "stdout",
     "output_type": "stream",
     "text": [
      "Original DataFrame:\n",
      "    Product  Price  Stock     Category\n",
      "0    Laptop   1200     10  Electronics\n",
      "1     Phone    800     25  Electronics\n",
      "2    Tablet    300     30  Electronics\n",
      "3   Monitor    400     15  Accessories\n",
      "4  Keyboard    100     50  Accessories\n",
      "\n",
      "DataFrame after adding Discounted Price:\n",
      "    Product  Price  Stock     Category  Discounted Price\n",
      "0    Laptop   1200     10  Electronics            1080.0\n",
      "1     Phone    800     25  Electronics             720.0\n",
      "2    Tablet    300     30  Electronics             270.0\n",
      "3   Monitor    400     15  Accessories             360.0\n",
      "4  Keyboard    100     50  Accessories              90.0\n",
      "\n",
      "Filtered Products (Price > 500):\n",
      "  Product  Price  Stock     Category  Discounted Price\n",
      "0  Laptop   1200     10  Electronics            1080.0\n",
      "1   Phone    800     25  Electronics             720.0\n",
      "\n",
      "Average Price per Category:\n",
      "Category\n",
      "Accessories    250.000000\n",
      "Electronics    766.666667\n",
      "Name: Price, dtype: float64\n",
      "\n",
      "Data saved to product_data.csv\n"
     ]
    }
   ],
   "source": [
    "\n",
    "# Display the DataFrame\n",
    "print(\"Original DataFrame:\")\n",
    "print(df)\n",
    "\n",
    "# Adding a Discounted Price Column\n",
    "df[\"Discounted Price\"] = df[\"Price\"] * 0.90  # Applying a 10% discount\n",
    "print(\"\\nDataFrame after adding Discounted Price:\")\n",
    "print(df)\n",
    "\n",
    "# Filtering products priced above $500\n",
    "filtered_df = df[df[\"Price\"] > 500]\n",
    "print(\"\\nFiltered Products (Price > 500):\")\n",
    "print(filtered_df)\n",
    "\n",
    "# Grouping by Category and computing average price\n",
    "category_avg_price = df.groupby(\"Category\")[\"Price\"].mean()\n",
    "print(\"\\nAverage Price per Category:\")\n",
    "print(category_avg_price)\n",
    "\n",
    "# Saving to CSV\n",
    "df.to_csv(\"product_data.csv\", index=False)\n",
    "print(\"\\nData saved to product_data.csv\")"
   ]
  }
 ],
 "metadata": {
  "kernelspec": {
   "display_name": "base",
   "language": "python",
   "name": "python3"
  },
  "language_info": {
   "codemirror_mode": {
    "name": "ipython",
    "version": 3
   },
   "file_extension": ".py",
   "mimetype": "text/x-python",
   "name": "python",
   "nbconvert_exporter": "python",
   "pygments_lexer": "ipython3",
   "version": "3.12.7"
  }
 },
 "nbformat": 4,
 "nbformat_minor": 2
}
