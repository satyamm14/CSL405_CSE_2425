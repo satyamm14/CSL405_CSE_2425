{
 "cells": [
  {
   "cell_type": "markdown",
   "metadata": {},
   "source": [
    "EXP 3\n"
   ]
  },
  {
   "cell_type": "code",
   "execution_count": 5,
   "metadata": {},
   "outputs": [
    {
     "name": "stdout",
     "output_type": "stream",
     "text": [
      "Frontend Developer\n"
     ]
    }
   ],
   "source": [
    "'''\n",
    "General case represents that developer working on \n",
    "frontend cannot work backend development unless he/she is fullstack dev.\n",
    "\n",
    "Write a method named verifier () that checks this condition.\n",
    "\n",
    "The method should check that if frontend is True and backend is True,\n",
    "the method returns Fullstack as string. If one of them is True, it should return\n",
    "the respective desgination, and if none of them are true, it returns,\n",
    "not a developer respetively.\n",
    "'''\n",
    "\n",
    "class Employee:\n",
    "    def __init__ (\n",
    "            self,\n",
    "            designation : str = 'Developer',\n",
    "            frontend : bool = False,\n",
    "            backend : bool = False\n",
    "    ):\n",
    "        self.designation = designation\n",
    "        self.frontend = frontend\n",
    "        self.backend = backend\n",
    "\n",
    "    def __repr__ (self):\n",
    "        return '{}'.format (self.designation, self.frontend, self.backend)\n",
    "    \n",
    "    ### Write the your method over here.\n",
    "    def verifier (self):\n",
    "        if self.frontend: \n",
    "            self.designation = \"Frontend Developer\"\n",
    "        if self.backend: \n",
    "            self.designation = \"Backend Developer\"\n",
    "        if self.backend and self.backend: \n",
    "            self.designation = \"Full Stack Developer\"\n",
    "\n",
    "        \n",
    "\n",
    "if __name__ == '__main__':\n",
    "    firstEmployee = Employee (frontend=True)\n",
    "\n",
    "    # Call the method here to display output.\n",
    "    firstEmployee.verifier()\n",
    "\n",
    "    print(firstEmployee)"
   ]
  }
 ],
 "metadata": {
  "kernelspec": {
   "display_name": "Python 3",
   "language": "python",
   "name": "python3"
  },
  "language_info": {
   "codemirror_mode": {
    "name": "ipython",
    "version": 3
   },
   "file_extension": ".py",
   "mimetype": "text/x-python",
   "name": "python",
   "nbconvert_exporter": "python",
   "pygments_lexer": "ipython3",
   "version": "3.12.2"
  }
 },
 "nbformat": 4,
 "nbformat_minor": 2
}
