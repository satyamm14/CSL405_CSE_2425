{
 "cells": [
  {
   "cell_type": "code",
   "execution_count": 2,
   "metadata": {},
   "outputs": [
    {
     "name": "stdout",
     "output_type": "stream",
     "text": [
      "File content after writing:\n",
      "This is the initial content of the file.\n",
      "\n",
      "File content after appending:\n",
      "This is the initial content of the file.\n",
      "This is additional content appended to the file.\n",
      "\n"
     ]
    }
   ],
   "source": [
    "from contextlib import contextmanager\n",
    "\n",
    "@contextmanager\n",
    "def genericFileFunction(filename, method):\n",
    "    file = open(filename, method)\n",
    "    yield file\n",
    "    file.close()\n",
    "\n",
    "if __name__ == '__main__':\n",
    "    with genericFileFunction('./file.txt', 'w') as file:\n",
    "        file.write(\"This is the initial content of the file.\\n\")\n",
    "\n",
    "    with genericFileFunction('./file.txt', 'r') as file:\n",
    "        print(\"File content after writing:\")\n",
    "        print(file.read())\n",
    "\n",
    "    with genericFileFunction('./file.txt', 'a') as file:\n",
    "        file.write(\"This is additional content appended to the file.\\n\")\n",
    "\n",
    "    with genericFileFunction('./file.txt', 'r') as file:\n",
    "        print(\"File content after appending:\")\n",
    "        print(file.read())"
   ]
  }
 ],
 "metadata": {
  "kernelspec": {
   "display_name": "Python 3",
   "language": "python",
   "name": "python3"
  },
  "language_info": {
   "codemirror_mode": {
    "name": "ipython",
    "version": 3
   },
   "file_extension": ".py",
   "mimetype": "text/x-python",
   "name": "python",
   "nbconvert_exporter": "python",
   "pygments_lexer": "ipython3",
   "version": "3.11.9"
  }
 },
 "nbformat": 4,
 "nbformat_minor": 2
}
