{
 "cells": [
  {
   "cell_type": "code",
   "execution_count": null,
   "id": "a7c26a94-3ddb-49a4-b363-8b0058978f08",
   "metadata": {},
   "outputs": [],
   "source": [
    "'''\n",
    "Given a string 's' consisting of only the characters 'a' and 'b', return true if every 'a' appears before every 'b' in the string.\n",
    "Otherwise, return false.\n",
    "\n",
    "Example 1:\n",
    "Input: s = \"aaabbb\"\n",
    "Output: true\n",
    "Explanation:\n",
    "The 'a's are at indices 0, 1, and 2, while the 'b's are at indices 3, 4, and 5.\n",
    "Hence, every 'a' appears before every 'b' and we return true.\n",
    "\n",
    "Example 2:\n",
    "Input: s = \"abab\"\n",
    "Output: false\n",
    "Explanation:\n",
    "There is an 'a' at index 2 and a 'b' at index 1.\n",
    "Hence, not every 'a' appears before every 'b' and we return false.\n",
    "\n",
    "Example 3:\n",
    "Input: s = \"bbb\"\n",
    "Output: true\n",
    "Explanation:\n",
    "There are no 'a's, hence, every 'a' appears before every 'b' and we return true.\n",
    "'''"
   ]
  },
  {
   "cell_type": "code",
   "execution_count": 38,
   "id": "a47fe35c-3daa-4bf5-b252-6c47b51d7abd",
   "metadata": {},
   "outputs": [
    {
     "name": "stdout",
     "output_type": "stream",
     "text": [
      "True\n",
      "False\n",
      "True\n"
     ]
    }
   ],
   "source": [
    "class conditionalStatements:\n",
    "    def checkString (self, s : str) -> bool:\n",
    "        for i in range(len(s)):\n",
    "            if s[i] == 'b':\n",
    "                if 'a' in s[i:]:\n",
    "                    return False\n",
    "            return True\n",
    "        \n",
    "        \n",
    "obj = conditionalStatements()\n",
    "print(obj.checkString(\"aaabbb\"))\n",
    "print(obj.checkString(\"bbaabbb\"))\n",
    "print(obj.checkString(\"bbb\"))\n"
   ]
  },
  {
   "cell_type": "code",
   "execution_count": null,
   "id": "b38a887d-6851-4bf1-a103-62b50c043d8a",
   "metadata": {},
   "outputs": [],
   "source": []
  }
 ],
 "metadata": {
  "kernelspec": {
   "display_name": "Python 3",
   "language": "python",
   "name": "python3"
  },
  "language_info": {
   "codemirror_mode": {
    "name": "ipython",
    "version": 3
   },
   "file_extension": ".py",
   "mimetype": "text/x-python",
   "name": "python",
   "nbconvert_exporter": "python",
   "pygments_lexer": "ipython3",
   "version": "3.11.9"
  }
 },
 "nbformat": 4,
 "nbformat_minor": 5
}
